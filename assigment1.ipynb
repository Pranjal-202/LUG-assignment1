{
  "nbformat": 4,
  "nbformat_minor": 0,
  "metadata": {
    "colab": {
      "provenance": []
    },
    "kernelspec": {
      "name": "python3",
      "display_name": "Python 3"
    },
    "language_info": {
      "name": "python"
    }
  },
  "cells": [
    {
      "cell_type": "code",
      "execution_count": 6,
      "metadata": {
        "colab": {
          "base_uri": "https://localhost:8080/"
        },
        "id": "vu5pmhR_nby2",
        "outputId": "83bd9f6d-dc9f-4273-a036-2ed787eaac30"
      },
      "outputs": [
        {
          "output_type": "stream",
          "name": "stdout",
          "text": [
            "6\n",
            "You are minor\n"
          ]
        }
      ],
      "source": [
        "age = int(input())\n",
        "\n",
        "if age <18:\n",
        "\n",
        "    print(\"You are minor\")\n",
        "\n",
        "elif age >= 18 and age <= 65:\n",
        "\n",
        "    print(\"You are an adult\")\n",
        "else :\n",
        "    print(\"You are a senior\")\n",
        "\n"
      ]
    }
  ]
}